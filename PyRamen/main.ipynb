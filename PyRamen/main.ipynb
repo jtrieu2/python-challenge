{
 "cells": [
  {
   "cell_type": "code",
   "execution_count": 53,
   "metadata": {},
   "outputs": [],
   "source": [
    "import csv\n",
    "\n",
    "# get menu data into a dictionary\n",
    "with open('../PyRamen/menu_data.csv', 'r') as csvfile:\n",
    "    csvreader = csv.reader(csvfile)\n",
    "    fields = next(csvreader)\n",
    "\n",
    "    menu = {}\n",
    "    for row in csvreader:\n",
    "        menu[row[0]] = float(row[3]), float(row[4])"
   ]
  },
  {
   "cell_type": "code",
   "execution_count": 54,
   "metadata": {},
   "outputs": [],
   "source": [
    "# get menu data into a dictionary\n",
    "with open('../PyRamen/sales_data.csv', 'r') as csvfile:\n",
    "    csvreader = csv.reader(csvfile)\n",
    "    fields = next(csvreader)\n",
    "\n",
    "    sales = []\n",
    "    for row in csvreader:\n",
    "        sales.append((int(row[3]), row[4]))"
   ]
  },
  {
   "cell_type": "code",
   "execution_count": 55,
   "metadata": {},
   "outputs": [
    {
     "name": "stdout",
     "output_type": "stream",
     "text": [
      "{'spicy miso ramen': {'01-count': 9238, '02-revenue': 110856.0, '03-cogs': 46190.0, '04-profit': 64666.0}, 'tori paitan ramen': {'01-count': 9156, '02-revenue': 119028.0, '03-cogs': 54936.0, '04-profit': 64092.0}, 'truffle butter ramen': {'01-count': 8982, '02-revenue': 125748.0, '03-cogs': 62874.0, '04-profit': 62874.0}, 'tonkotsu ramen': {'01-count': 9288, '02-revenue': 120744.0, '03-cogs': 55728.0, '04-profit': 65016.0}, 'vegetarian spicy miso': {'01-count': 9216, '02-revenue': 110592.0, '03-cogs': 46080.0, '04-profit': 64512.0}, 'shio ramen': {'01-count': 9180, '02-revenue': 100980.0, '03-cogs': 45900.0, '04-profit': 55080.0}, 'miso crab ramen': {'01-count': 8890, '02-revenue': 106680.0, '03-cogs': 53340.0, '04-profit': 53340.0}, 'nagomi shoyu': {'01-count': 9132, '02-revenue': 100452.0, '03-cogs': 45660.0, '04-profit': 54792.0}, 'soft-shell miso crab ramen': {'01-count': 9130, '02-revenue': 127820.0, '03-cogs': 63910.0, '04-profit': 63910.0}, 'burnt garlic tonkotsu ramen': {'01-count': 9070, '02-revenue': 126980.0, '03-cogs': 54420.0, '04-profit': 72560.0}, 'vegetarian curry + king trumpet mushroom ramen': {'01-count': 8824, '02-revenue': 114712.0, '03-cogs': 61768.0, '04-profit': 52944.0}}\n"
     ]
    }
   ],
   "source": [
    "# iterate through sales data and create a report of the profits and sales of each item sold\n",
    "report = {}\n",
    "for sale in sales:\n",
    "    quantity, sales_item = sale\n",
    "    price, cost = menu[sales_item]\n",
    "    profit = price - cost\n",
    "    \n",
    "    if sales_item not in report:\n",
    "        report[sales_item] = {}\n",
    "        report[sales_item][\"01-count\"] = quantity\n",
    "        report[sales_item][\"02-revenue\"] = price * quantity\n",
    "        report[sales_item][\"03-cogs\"] = cost * quantity\n",
    "        report[sales_item][\"04-profit\"] = profit * quantity\n",
    "    else:\n",
    "        report[sales_item][\"01-count\"] += quantity\n",
    "        report[sales_item][\"02-revenue\"] += price * quantity\n",
    "        report[sales_item][\"03-cogs\"] += cost * quantity\n",
    "        report[sales_item][\"04-profit\"] += profit * quantity\n",
    "\n",
    "print(report)"
   ]
  }
 ],
 "metadata": {
  "kernelspec": {
   "display_name": "Python 3",
   "language": "python",
   "name": "python3"
  },
  "language_info": {
   "codemirror_mode": {
    "name": "ipython",
    "version": 3
   },
   "file_extension": ".py",
   "mimetype": "text/x-python",
   "name": "python",
   "nbconvert_exporter": "python",
   "pygments_lexer": "ipython3",
   "version": "3.11.1"
  },
  "orig_nbformat": 4
 },
 "nbformat": 4,
 "nbformat_minor": 2
}
